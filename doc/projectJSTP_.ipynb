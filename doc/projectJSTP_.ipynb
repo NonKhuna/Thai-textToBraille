{
  "nbformat": 4,
  "nbformat_minor": 0,
  "metadata": {
    "colab": {
      "name": "projectJSTP.",
      "provenance": [],
      "collapsed_sections": [],
      "mount_file_id": "1glVZinnJF7ApbsR6a5LpOfCweuK8lEz9",
      "authorship_tag": "ABX9TyN8Vi8Q1ym9goHutyhfVVS1",
      "include_colab_link": true
    },
    "kernelspec": {
      "name": "python3",
      "display_name": "Python 3"
    }
  },
  "cells": [
    {
      "cell_type": "markdown",
      "metadata": {
        "id": "view-in-github",
        "colab_type": "text"
      },
      "source": [
        "<a href=\"https://colab.research.google.com/github/NonKhuna/Thai-textToBraille/blob/master/projectJSTP_.ipynb\" target=\"_parent\"><img src=\"https://colab.research.google.com/assets/colab-badge.svg\" alt=\"Open In Colab\"/></a>"
      ]
    },
    {
      "cell_type": "code",
      "metadata": {
        "id": "G1tDjnn94u_k"
      },
      "source": [
        "!pip install https://github.com/PyThaiNLP/pythainlp/archive/dev.zip\n",
        "!pip install epitran\n",
        "!pip install sklearn_crfsuite\n"
      ],
      "execution_count": null,
      "outputs": []
    },
    {
      "cell_type": "code",
      "metadata": {
        "id": "YtlL6k7tJM0X"
      },
      "source": [
        "# dev version\n",
        "# !pip install https://github.com/PyThaiNLP/pythainlp/archive/dev.zip\n",
        "\n",
        "# release version \n",
        "! pip install pythainlp\n",
        "\n",
        "!pip install epitran\n",
        "!pip install sklearn_crfsuite\n",
        "!pip install tensorflow deepcut\n",
        "!pip install attacut"
      ],
      "execution_count": null,
      "outputs": []
    },
    {
      "cell_type": "code",
      "metadata": {
        "id": "dOfYtteOLs89",
        "colab": {
          "base_uri": "https://localhost:8080/",
          "height": 1000
        },
        "outputId": "19e9b00e-c5f7-41b6-ae5d-5934b53ea948"
      },
      "source": [
        "! pip uninstall pythainlp\n",
        "! pip install pythainlp"
      ],
      "execution_count": null,
      "outputs": [
        {
          "output_type": "stream",
          "text": [
            "Uninstalling pythainlp-2.1.4:\n",
            "  Would remove:\n",
            "    /usr/local/bin/pythainlp\n",
            "    /usr/local/bin/word-tokenization-benchmark\n",
            "    /usr/local/lib/python3.6/dist-packages/pythainlp-2.1.4.dist-info/*\n",
            "    /usr/local/lib/python3.6/dist-packages/pythainlp/*\n",
            "    /usr/local/lib/python3.6/dist-packages/tests/*\n",
            "  Would not remove (might be manually added):\n",
            "    /usr/local/lib/python3.6/dist-packages/tests/download_media.py\n",
            "    /usr/local/lib/python3.6/dist-packages/tests/resources/__init__.py\n",
            "    /usr/local/lib/python3.6/dist-packages/tests/resources/some_module.py\n",
            "    /usr/local/lib/python3.6/dist-packages/tests/test_AudioClips.py\n",
            "    /usr/local/lib/python3.6/dist-packages/tests/test_ImageSequenceClip.py\n",
            "    /usr/local/lib/python3.6/dist-packages/tests/test_PR.py\n",
            "    /usr/local/lib/python3.6/dist-packages/tests/test_TextClip.py\n",
            "    /usr/local/lib/python3.6/dist-packages/tests/test_VideoClip.py\n",
            "    /usr/local/lib/python3.6/dist-packages/tests/test_VideoFileClip.py\n",
            "    /usr/local/lib/python3.6/dist-packages/tests/test_Videos.py\n",
            "    /usr/local/lib/python3.6/dist-packages/tests/test_classifier/__init__.py\n",
            "    /usr/local/lib/python3.6/dist-packages/tests/test_classifier/conftest.py\n",
            "    /usr/local/lib/python3.6/dist-packages/tests/test_classifier/test_class_prediction_error.py\n",
            "    /usr/local/lib/python3.6/dist-packages/tests/test_classifier/test_classification_report.py\n",
            "    /usr/local/lib/python3.6/dist-packages/tests/test_classifier/test_confusion_matrix.py\n",
            "    /usr/local/lib/python3.6/dist-packages/tests/test_classifier/test_prcurve.py\n",
            "    /usr/local/lib/python3.6/dist-packages/tests/test_classifier/test_rocauc.py\n",
            "    /usr/local/lib/python3.6/dist-packages/tests/test_classifier/test_threshold.py\n",
            "    /usr/local/lib/python3.6/dist-packages/tests/test_cluster/__init__.py\n",
            "    /usr/local/lib/python3.6/dist-packages/tests/test_cluster/test_base.py\n",
            "    /usr/local/lib/python3.6/dist-packages/tests/test_cluster/test_elbow.py\n",
            "    /usr/local/lib/python3.6/dist-packages/tests/test_cluster/test_icdm.py\n",
            "    /usr/local/lib/python3.6/dist-packages/tests/test_cluster/test_silhouette.py\n",
            "    /usr/local/lib/python3.6/dist-packages/tests/test_compositing.py\n",
            "    /usr/local/lib/python3.6/dist-packages/tests/test_examples.py\n",
            "    /usr/local/lib/python3.6/dist-packages/tests/test_features/__init__.py\n",
            "    /usr/local/lib/python3.6/dist-packages/tests/test_features/test_base.py\n",
            "    /usr/local/lib/python3.6/dist-packages/tests/test_features/test_importances.py\n",
            "    /usr/local/lib/python3.6/dist-packages/tests/test_features/test_jointplot.py\n",
            "    /usr/local/lib/python3.6/dist-packages/tests/test_features/test_manifold.py\n",
            "    /usr/local/lib/python3.6/dist-packages/tests/test_features/test_pca.py\n",
            "    /usr/local/lib/python3.6/dist-packages/tests/test_features/test_pcoords.py\n",
            "    /usr/local/lib/python3.6/dist-packages/tests/test_features/test_radviz.py\n",
            "    /usr/local/lib/python3.6/dist-packages/tests/test_features/test_rankd.py\n",
            "    /usr/local/lib/python3.6/dist-packages/tests/test_features/test_rfecv.py\n",
            "    /usr/local/lib/python3.6/dist-packages/tests/test_ffmpeg_reader.py\n",
            "    /usr/local/lib/python3.6/dist-packages/tests/test_fx.py\n",
            "    /usr/local/lib/python3.6/dist-packages/tests/test_helper.py\n",
            "    /usr/local/lib/python3.6/dist-packages/tests/test_issues.py\n",
            "    /usr/local/lib/python3.6/dist-packages/tests/test_misc.py\n",
            "    /usr/local/lib/python3.6/dist-packages/tests/test_model_selection/__init__.py\n",
            "    /usr/local/lib/python3.6/dist-packages/tests/test_model_selection/conftest.py\n",
            "    /usr/local/lib/python3.6/dist-packages/tests/test_model_selection/test_cross_validation.py\n",
            "    /usr/local/lib/python3.6/dist-packages/tests/test_model_selection/test_learning_curve.py\n",
            "    /usr/local/lib/python3.6/dist-packages/tests/test_model_selection/test_validation_curve.py\n",
            "    /usr/local/lib/python3.6/dist-packages/tests/test_regressor/__init__.py\n",
            "    /usr/local/lib/python3.6/dist-packages/tests/test_regressor/test_alphas.py\n",
            "    /usr/local/lib/python3.6/dist-packages/tests/test_regressor/test_residuals.py\n",
            "    /usr/local/lib/python3.6/dist-packages/tests/test_resourcerelease.py\n",
            "    /usr/local/lib/python3.6/dist-packages/tests/test_resourcereleasedemo.py\n",
            "    /usr/local/lib/python3.6/dist-packages/tests/test_style/__init__.py\n",
            "    /usr/local/lib/python3.6/dist-packages/tests/test_style/test_colors.py\n",
            "    /usr/local/lib/python3.6/dist-packages/tests/test_style/test_palettes.py\n",
            "    /usr/local/lib/python3.6/dist-packages/tests/test_style/test_rcmod.py\n",
            "    /usr/local/lib/python3.6/dist-packages/tests/test_target/__init__.py\n",
            "    /usr/local/lib/python3.6/dist-packages/tests/test_target/test_binning.py\n",
            "    /usr/local/lib/python3.6/dist-packages/tests/test_target/test_class_balance.py\n",
            "    /usr/local/lib/python3.6/dist-packages/tests/test_target/test_feature_correlation.py\n",
            "    /usr/local/lib/python3.6/dist-packages/tests/test_text/__init__.py\n",
            "    /usr/local/lib/python3.6/dist-packages/tests/test_text/test_base.py\n",
            "    /usr/local/lib/python3.6/dist-packages/tests/test_text/test_dispersion.py\n",
            "    /usr/local/lib/python3.6/dist-packages/tests/test_text/test_freqdist.py\n",
            "    /usr/local/lib/python3.6/dist-packages/tests/test_text/test_postag.py\n",
            "    /usr/local/lib/python3.6/dist-packages/tests/test_text/test_tsne.py\n",
            "    /usr/local/lib/python3.6/dist-packages/tests/test_utils/__init__.py\n",
            "    /usr/local/lib/python3.6/dist-packages/tests/test_utils/test_decorators.py\n",
            "    /usr/local/lib/python3.6/dist-packages/tests/test_utils/test_helpers.py\n",
            "    /usr/local/lib/python3.6/dist-packages/tests/test_utils/test_nan_warnings.py\n",
            "    /usr/local/lib/python3.6/dist-packages/tests/test_utils/test_timer.py\n",
            "    /usr/local/lib/python3.6/dist-packages/tests/test_utils/test_types.py\n",
            "    /usr/local/lib/python3.6/dist-packages/tests/test_utils/test_wrapper.py\n",
            "    /usr/local/lib/python3.6/dist-packages/tests/test_videotools.py\n",
            "Proceed (y/n)? y\n",
            "  Successfully uninstalled pythainlp-2.1.4\n",
            "Collecting pythainlp\n",
            "  Using cached https://files.pythonhosted.org/packages/cb/14/b80930a2cc09ed6b5f8a22da9be6ece56939839ae66d921d9c7123034ba0/pythainlp-2.1.4-py3-none-any.whl\n",
            "Requirement already satisfied: tqdm>=4.1 in /usr/local/lib/python3.6/dist-packages (from pythainlp) (4.41.1)\n",
            "Requirement already satisfied: requests>=2.22.0 in /usr/local/lib/python3.6/dist-packages (from pythainlp) (2.23.0)\n",
            "Requirement already satisfied: dill>=0.3.0 in /usr/local/lib/python3.6/dist-packages (from pythainlp) (0.3.1.1)\n",
            "Requirement already satisfied: nltk>=3.3 in /usr/local/lib/python3.6/dist-packages (from pythainlp) (3.5)\n",
            "Requirement already satisfied: tinydb>=3.0 in /usr/local/lib/python3.6/dist-packages (from pythainlp) (4.1.1)\n",
            "Requirement already satisfied: urllib3!=1.25.0,!=1.25.1,<1.26,>=1.21.1 in /usr/local/lib/python3.6/dist-packages (from requests>=2.22.0->pythainlp) (1.24.3)\n",
            "Requirement already satisfied: chardet<4,>=3.0.2 in /usr/local/lib/python3.6/dist-packages (from requests>=2.22.0->pythainlp) (3.0.4)\n",
            "Requirement already satisfied: idna<3,>=2.5 in /usr/local/lib/python3.6/dist-packages (from requests>=2.22.0->pythainlp) (2.9)\n",
            "Requirement already satisfied: certifi>=2017.4.17 in /usr/local/lib/python3.6/dist-packages (from requests>=2.22.0->pythainlp) (2020.4.5.1)\n",
            "Requirement already satisfied: click in /usr/local/lib/python3.6/dist-packages (from nltk>=3.3->pythainlp) (7.1.2)\n",
            "Requirement already satisfied: regex in /usr/local/lib/python3.6/dist-packages (from nltk>=3.3->pythainlp) (2019.12.20)\n",
            "Requirement already satisfied: joblib in /usr/local/lib/python3.6/dist-packages (from nltk>=3.3->pythainlp) (0.14.1)\n",
            "Installing collected packages: pythainlp\n",
            "Successfully installed pythainlp-2.1.4\n"
          ],
          "name": "stdout"
        },
        {
          "output_type": "display_data",
          "data": {
            "application/vnd.colab-display-data+json": {
              "pip_warning": {
                "packages": [
                  "pythainlp"
                ]
              }
            }
          },
          "metadata": {
            "tags": []
          }
        }
      ]
    },
    {
      "cell_type": "code",
      "metadata": {
        "id": "Zorwm4XcKB6-",
        "colab": {
          "base_uri": "https://localhost:8080/",
          "height": 195
        },
        "outputId": "3d872d93-c15a-4ebc-8a14-398011a79a97"
      },
      "source": [
        "import pythainlp\n",
        "\n",
        "pythainlp.__version_"
      ],
      "execution_count": null,
      "outputs": [
        {
          "output_type": "error",
          "ename": "AttributeError",
          "evalue": "ignored",
          "traceback": [
            "\u001b[0;31m---------------------------------------------------------------------------\u001b[0m",
            "\u001b[0;31mAttributeError\u001b[0m                            Traceback (most recent call last)",
            "\u001b[0;32m<ipython-input-1-968b011bee84>\u001b[0m in \u001b[0;36m<module>\u001b[0;34m()\u001b[0m\n\u001b[1;32m      1\u001b[0m \u001b[0;32mimport\u001b[0m \u001b[0mpythainlp\u001b[0m\u001b[0;34m\u001b[0m\u001b[0;34m\u001b[0m\u001b[0m\n\u001b[1;32m      2\u001b[0m \u001b[0;34m\u001b[0m\u001b[0m\n\u001b[0;32m----> 3\u001b[0;31m \u001b[0mpythainlp\u001b[0m\u001b[0;34m.\u001b[0m\u001b[0m__version_\u001b[0m\u001b[0;34m\u001b[0m\u001b[0;34m\u001b[0m\u001b[0m\n\u001b[0m",
            "\u001b[0;31mAttributeError\u001b[0m: module 'pythainlp' has no attribute '__version_'"
          ]
        }
      ]
    },
    {
      "cell_type": "code",
      "metadata": {
        "id": "np5Jw7PGJeQJ"
      },
      "source": [
        "import warnings\n",
        "warnings.filterwarnings('ignore')"
      ],
      "execution_count": null,
      "outputs": []
    },
    {
      "cell_type": "code",
      "metadata": {
        "id": "5QtNNA8n44rW",
        "colab": {
          "base_uri": "https://localhost:8080/",
          "height": 138
        },
        "outputId": "caebbef7-d7d0-4483-d343-eb67add76c53"
      },
      "source": [
        "from pythainlp import sent_tokenize, word_tokenize,subword_tokenize ,syllable_tokenize\n",
        "from pythainlp.tokenize import tcc \n",
        "text = \"เสมอภาคเคหะสถาน    สวัสดีครับคนไทยทุกคน \"\n",
        "\n",
        "txt = \"ศักสิทธิ์ เคหะสถาน เสมอ ร้านรับเหมา เพลากลม เพลานี้ เกวียน สเหมียนโผละ\"\n",
        "print(\"Sent_tokenize :\",sent_tokenize(text))\n",
        "print(\"word_tokenize:\", word_tokenize(txt))\n",
        "print(\"word_tokenize Deepcut:\", word_tokenize(txt,engine='deepcut') )\n",
        "print(\"word_tokenize:\", subword_tokenize(txt))\n",
        "print(\" \",syllable_tokenize(txt))\n",
        "\n",
        "tcc.segment(\"เสมอ\")\n",
        "\n"
      ],
      "execution_count": null,
      "outputs": [
        {
          "output_type": "stream",
          "text": [
            "Sent_tokenize : ['เสมอภาคเคหะสถาน    สวัสดีครับคนไทยทุกคน ']\n",
            "word_tokenize: ['ศัก', 'สิทธิ์', ' ', 'เคหะ', 'สถาน', ' ', 'เสมอ', ' ', 'ร้าน', 'รับเหมา', ' ', 'เพลา', 'กลม', ' ', 'เพลา', 'นี้', ' ', 'เกวียน', ' ', 'สเหมียน', 'โผละ']\n",
            "word_tokenize Deepcut: ['ศักสิทธิ์', ' ', 'เคหะสถาน', ' ', 'เสมอ', ' ', 'ร้าน', 'รับ', 'เหมา', ' ', 'เพลา', 'กลม', ' ', 'เพลา', 'นี้', ' ', 'เกวียน', ' ', 'สเหมียน', 'โผละ']\n",
            "word_tokenize: ['ศัก', 'สิ', 'ท', 'ธิ์', ' ', 'เค', 'หะ', 'ส', 'ถา', 'น', ' ', 'เส', 'ม', 'อ', ' ', 'ร้า', 'น', 'รับ', 'เห', 'มา', ' ', 'เพ', 'ลา', 'ก', 'ล', 'ม', ' ', 'เพ', 'ลา', 'นี้', ' ', 'เกวีย', 'น', ' ', 'ส', 'เหมีย', 'น', 'โผ', 'ละ']\n",
            "  ['ศัก', 'สิทธิ์', ' ', 'เคหะ', 'สถาน', ' ', 'เสมอ', ' ', 'ร้าน', 'รับ', 'เหมา', ' ', 'เพลา', 'กลม', ' ', 'เพลา', 'นี้', ' ', 'เกวียน', ' ', 'สเหมียน', 'โผ', 'ละ']\n"
          ],
          "name": "stdout"
        },
        {
          "output_type": "execute_result",
          "data": {
            "text/plain": [
              "['เส', 'ม', 'อ']"
            ]
          },
          "metadata": {
            "tags": []
          },
          "execution_count": 20
        }
      ]
    },
    {
      "cell_type": "code",
      "metadata": {
        "id": "rq6aoVHQ52Q8",
        "colab": {
          "base_uri": "https://localhost:8080/",
          "height": 336
        },
        "outputId": "cc8d04ff-b9ce-4677-f864-055ad04b9d03"
      },
      "source": [
        "from pythainlp.tokenize import Tokenizer,word_tokenize\n",
        "from pythainlp.corpus.common import thai_words,thai_syllables\n",
        "#import pythainlp.tokenize.dict_trie\n",
        "from marisa_trie import Trie\n",
        "text = \"อะเฟเซีย (Aphasia) เป็นอาการผิดปกติของการพูด โพละ\"\n",
        "_tokenizer = Tokenizer(custom_dict=list(thai_syllables()), engine='longest')\n",
        "_tokenizer.word_tokenize(text)\n",
        "\n"
      ],
      "execution_count": null,
      "outputs": [
        {
          "output_type": "execute_result",
          "data": {
            "text/plain": [
              "['อะ',\n",
              " 'เฟ',\n",
              " 'เซีย',\n",
              " ' (',\n",
              " 'aphasia',\n",
              " ')',\n",
              " ' ',\n",
              " 'เป็น',\n",
              " 'อา',\n",
              " 'การ',\n",
              " 'ผิด',\n",
              " 'ปก',\n",
              " 'ติ',\n",
              " 'ของ',\n",
              " 'การ',\n",
              " 'พูด',\n",
              " ' ',\n",
              " 'โพ',\n",
              " 'ละ']"
            ]
          },
          "metadata": {
            "tags": []
          },
          "execution_count": 4
        }
      ]
    },
    {
      "cell_type": "code",
      "metadata": {
        "id": "uKeFNpSW8cFt",
        "colab": {
          "base_uri": "https://localhost:8080/",
          "height": 67
        },
        "outputId": "1ffbdb1e-6eb8-4859-871c-baaa9d011ac0"
      },
      "source": [
        "from pythainlp.soundex import lk82, metasound, udom83\n",
        "text = \"เสมอภาค\"\n",
        "text2 = \"เรียน\"\n",
        "print(lk82(text))\n",
        "print(lk82(text2))\n",
        "print(lk82(\"เขือน\"))"
      ],
      "execution_count": null,
      "outputs": [
        {
          "output_type": "stream",
          "text": [
            "ซB659\n",
            "รB740\n",
            "กBA40\n"
          ],
          "name": "stdout"
        }
      ]
    },
    {
      "cell_type": "code",
      "metadata": {
        "id": "utxLcdKqHiUQ",
        "colab": {
          "base_uri": "https://localhost:8080/",
          "height": 363
        },
        "outputId": "00202d8e-626d-400b-b4cd-bd55efdc8b88"
      },
      "source": [
        "from pythainlp.tokenize import Tokenizer\n",
        "from pythainlp.tokenize import Tokenizer, dict_trie\n",
        "from pythainlp.corpus.common import thai_words\n",
        "\n",
        "custom_words_list = set(thai_words())\n",
        "custom_words_list.add('อะเฟเซีย')\n",
        "custom_words_list.add('Aphasia')\n",
        "trie = dict_trie(dict_source=custom_words_list)\n",
        "\n",
        "text = \"อะเฟเซีย (Aphasia*) เป็นอาการผิดปกติของการพูด\"\n",
        "_tokenizer = Tokenizer(custom_dict=trie, engine='newmm')"
      ],
      "execution_count": null,
      "outputs": [
        {
          "output_type": "error",
          "ename": "ImportError",
          "evalue": "ignored",
          "traceback": [
            "\u001b[0;31m---------------------------------------------------------------------------\u001b[0m",
            "\u001b[0;31mImportError\u001b[0m                               Traceback (most recent call last)",
            "\u001b[0;32m<ipython-input-15-826fedfb3936>\u001b[0m in \u001b[0;36m<module>\u001b[0;34m()\u001b[0m\n\u001b[1;32m      1\u001b[0m \u001b[0;32mfrom\u001b[0m \u001b[0mpythainlp\u001b[0m\u001b[0;34m.\u001b[0m\u001b[0mtokenize\u001b[0m \u001b[0;32mimport\u001b[0m \u001b[0mTokenizer\u001b[0m\u001b[0;34m\u001b[0m\u001b[0;34m\u001b[0m\u001b[0m\n\u001b[0;32m----> 2\u001b[0;31m \u001b[0;32mfrom\u001b[0m \u001b[0mpythainlp\u001b[0m\u001b[0;34m.\u001b[0m\u001b[0mtokenize\u001b[0m \u001b[0;32mimport\u001b[0m \u001b[0mTokenizer\u001b[0m\u001b[0;34m,\u001b[0m \u001b[0mdict_trie\u001b[0m\u001b[0;34m\u001b[0m\u001b[0;34m\u001b[0m\u001b[0m\n\u001b[0m\u001b[1;32m      3\u001b[0m \u001b[0;32mfrom\u001b[0m \u001b[0mpythainlp\u001b[0m\u001b[0;34m.\u001b[0m\u001b[0mcorpus\u001b[0m\u001b[0;34m.\u001b[0m\u001b[0mcommon\u001b[0m \u001b[0;32mimport\u001b[0m \u001b[0mthai_words\u001b[0m\u001b[0;34m\u001b[0m\u001b[0;34m\u001b[0m\u001b[0m\n\u001b[1;32m      4\u001b[0m \u001b[0;34m\u001b[0m\u001b[0m\n\u001b[1;32m      5\u001b[0m \u001b[0mcustom_words_list\u001b[0m \u001b[0;34m=\u001b[0m \u001b[0mset\u001b[0m\u001b[0;34m(\u001b[0m\u001b[0mthai_words\u001b[0m\u001b[0;34m(\u001b[0m\u001b[0;34m)\u001b[0m\u001b[0;34m)\u001b[0m\u001b[0;34m\u001b[0m\u001b[0;34m\u001b[0m\u001b[0m\n",
            "\u001b[0;31mImportError\u001b[0m: cannot import name 'dict_trie'",
            "",
            "\u001b[0;31m---------------------------------------------------------------------------\u001b[0;32m\nNOTE: If your import is failing due to a missing package, you can\nmanually install dependencies using either !pip or !apt.\n\nTo view examples of installing some common dependencies, click the\n\"Open Examples\" button below.\n\u001b[0;31m---------------------------------------------------------------------------\u001b[0m\n"
          ]
        }
      ]
    },
    {
      "cell_type": "code",
      "metadata": {
        "id": "M4UFYYrajyCa",
        "colab": {
          "base_uri": "https://localhost:8080/",
          "height": 34
        },
        "outputId": "df088f76-6671-4454-e72e-d501e048abcf"
      },
      "source": [
        "from pythainlp.soundex import lk82, metasound, udom83\n",
        "print(lk82(\"เสีย\"))"
      ],
      "execution_count": null,
      "outputs": [
        {
          "output_type": "stream",
          "text": [
            "ซB700\n"
          ],
          "name": "stdout"
        }
      ]
    },
    {
      "cell_type": "code",
      "metadata": {
        "id": "r_1yG5pBJby7"
      },
      "source": [
        ""
      ],
      "execution_count": null,
      "outputs": []
    }
  ]
}